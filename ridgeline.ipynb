from canvasxpress.canvas import CanvasXpress
from canvasxpress.plot import graph

df = pd.read_csv("penguins.csv").dropna(subset=["body_mass_g", "species"])

graph(
  CanvasXpress(
    data = {
      "y": {
        "data": [[val] for val in df["body_mass_g"]],
        "smps": ["BodyMass"],
        "vars": ["" for _ in range(len(df))]
      },
      "z": {
        "Species": df["species"].tolist()
      }
    },
    config = {
      "colorBy": "Species",
      "dataTableTransposed": False,
      "graphType": "Scatter2D",
      "histogramBins": 20,
      "llmHeader": ["BodyMass", "Species"],
      "ridgeBy": "Species",
      "ridgelineScale": 2,
      "setMaxX": 9,
      "setMinX": 3.5,
      "showFilledHistogramDensity": True,
      "showHistogram": "Species",
      "showHistogramDensity": True,
      "xAxis": ["BodyMass"],
      "xAxisTitle": "Body Mass (g)",
      "yAxis": ["BodyMass"]
    },
    after_render = [
      [
        "createHistogram",
        ["Species",None],
        {},
        1761889882711,
        True
      ]
    ],
    width = 596,
    height = 596
  )
)
