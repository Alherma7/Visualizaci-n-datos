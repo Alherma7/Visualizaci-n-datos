{
 "cells": [
  {
   "cell_type": "code",
   "execution_count": 65,
   "id": "b47ab813-905f-4a1f-8e77-2be8330ebf0b",
   "metadata": {},
   "outputs": [
    {
     "data": {
      "text/html": [
       "\n",
       "<html>\n",
       "    <head>\n",
       "        <meta charset=\"UTF-8\">\n",
       "    </head>\n",
       "    <body>\n",
       "        \n",
       "        <div class=\"d-flex flex-column\"><div class=\"d-flex flex-row\"><div class=\"p-2\"><canvas id=\"e71a977f0da1453a9b3652dc6c5fc458\" width=800 height=600></canvas></div></div></div>\n",
       "        \n",
       "<script type=\"text/javascript\">\n",
       "    var cXe71a977f0da1453a9b3652dc6c5fc458 = new CanvasXpress({\"renderTo\": \"e71a977f0da1453a9b3652dc6c5fc458\", \"data\": {\"y\": {\"data\": [[3750.0], [3800.0], [3250.0], [3450.0], [3650.0], [3625.0], [4675.0], [3475.0], [4250.0], [3300.0], [3700.0], [3200.0], [3800.0], [4400.0], [3700.0], [3450.0], [4500.0], [3325.0], [4200.0], [3400.0], [3600.0], [3800.0], [3950.0], [3800.0], [3800.0], [3550.0], [3200.0], [3150.0], [3950.0], [3250.0], [3900.0], [3300.0], [3900.0], [3325.0], [4150.0], [3950.0], [3550.0], [3300.0], [4650.0], [3150.0], [3900.0], [3100.0], [4400.0], [3000.0], [4600.0], [3425.0], [2975.0], [3450.0], [4150.0], [3500.0], [4300.0], [3450.0], [4050.0], [2900.0], [3700.0], [3550.0], [3800.0], [2850.0], [3750.0], [3150.0], [4400.0], [3600.0], [4050.0], [2850.0], [3950.0], [3350.0], [4100.0], [3050.0], [4450.0], [3600.0], [3900.0], [3550.0], [4150.0], [3700.0], [4250.0], [3700.0], [3900.0], [3550.0], [4000.0], [3200.0], [4700.0], [3800.0], [4200.0], [3350.0], [3550.0], [3800.0], [3500.0], [3950.0], [3600.0], [3550.0], [4300.0], [3400.0], [4450.0], [3300.0], [4300.0], [3700.0], [4350.0], [2900.0], [4100.0], [3725.0], [4725.0], [3075.0], [4250.0], [2925.0], [3550.0], [3750.0], [3900.0], [3175.0], [4775.0], [3825.0], [4600.0], [3200.0], [4275.0], [3900.0], [4075.0], [2900.0], [3775.0], [3350.0], [3325.0], [3150.0], [3500.0], [3450.0], [3875.0], [3050.0], [4000.0], [3275.0], [4300.0], [3050.0], [4000.0], [3325.0], [3500.0], [3500.0], [4475.0], [3425.0], [3900.0], [3175.0], [3975.0], [3400.0], [4250.0], [3400.0], [3475.0], [3050.0], [3725.0], [3000.0], [3650.0], [4250.0], [3475.0], [3450.0], [3750.0], [3700.0], [4000.0], [4500.0], [5700.0], [4450.0], [5700.0], [5400.0], [4550.0], [4800.0], [5200.0], [4400.0], [5150.0], [4650.0], [5550.0], [4650.0], [5850.0], [4200.0], [5850.0], [4150.0], [6300.0], [4800.0], [5350.0], [5700.0], [5000.0], [4400.0], [5050.0], [5000.0], [5100.0], [4100.0], [5650.0], [4600.0], [5550.0], [5250.0], [4700.0], [5050.0], [6050.0], [5150.0], [5400.0], [4950.0], [5250.0], [4350.0], [5350.0], [3950.0], [5700.0], [4300.0], [4750.0], [5550.0], [4900.0], [4200.0], [5400.0], [5100.0], [5300.0], [4850.0], [5300.0], [4400.0], [5000.0], [4900.0], [5050.0], [4300.0], [5000.0], [4450.0], [5550.0], [4200.0], [5300.0], [4400.0], [5650.0], [4700.0], [5700.0], [4650.0], [5800.0], [4700.0], [5550.0], [4750.0], [5000.0], [5100.0], [5200.0], [4700.0], [5800.0], [4600.0], [6000.0], [4750.0], [5950.0], [4625.0], [5450.0], [4725.0], [5350.0], [4750.0], [5600.0], [4600.0], [5300.0], [4875.0], [5550.0], [4950.0], [5400.0], [4750.0], [5650.0], [4850.0], [5200.0], [4925.0], [4875.0], [4625.0], [5250.0], [4850.0], [5600.0], [4975.0], [5500.0], [4725.0], [5500.0], [4700.0], [5500.0], [4575.0], [5500.0], [5000.0], [5950.0], [4650.0], [5500.0], [4375.0], [5850.0], [4875.0], [6000.0], [4925.0], [4850.0], [5750.0], [5200.0], [5400.0], [3500.0], [3900.0], [3650.0], [3525.0], [3725.0], [3950.0], [3250.0], [3750.0], [4150.0], [3700.0], [3800.0], [3775.0], [3700.0], [4050.0], [3575.0], [4050.0], [3300.0], [3700.0], [3450.0], [4400.0], [3600.0], [3400.0], [2900.0], [3800.0], [3300.0], [4150.0], [3400.0], [3800.0], [3700.0], [4550.0], [3200.0], [4300.0], [3350.0], [4100.0], [3600.0], [3900.0], [3850.0], [4800.0], [2700.0], [4500.0], [3950.0], [3650.0], [3550.0], [3500.0], [3675.0], [4450.0], [3400.0], [4300.0], [3250.0], [3675.0], [3325.0], [3950.0], [3600.0], [4050.0], [3350.0], [3450.0], [3250.0], [4050.0], [3800.0], [3525.0], [3950.0], [3650.0], [3650.0], [4000.0], [3400.0], [3775.0], [4100.0], [3775.0]], \"smps\": [\"Sepal.Length\"], \"vars\": [\"\", \"\", \"\", \"\", \"\", \"\", \"\", \"\", \"\", \"\", \"\", \"\", \"\", \"\", \"\", \"\", \"\", \"\", \"\", \"\", \"\", \"\", \"\", \"\", \"\", \"\", \"\", \"\", \"\", \"\", \"\", \"\", \"\", \"\", \"\", \"\", \"\", \"\", \"\", \"\", \"\", \"\", \"\", \"\", \"\", \"\", \"\", \"\", \"\", \"\", \"\", \"\", \"\", \"\", \"\", \"\", \"\", \"\", \"\", \"\", \"\", \"\", \"\", \"\", \"\", \"\", \"\", \"\", \"\", \"\", \"\", \"\", \"\", \"\", \"\", \"\", \"\", \"\", \"\", \"\", \"\", \"\", \"\", \"\", \"\", \"\", \"\", \"\", \"\", \"\", \"\", \"\", \"\", \"\", \"\", \"\", \"\", \"\", \"\", \"\", \"\", \"\", \"\", \"\", \"\", \"\", \"\", \"\", \"\", \"\", \"\", \"\", \"\", \"\", \"\", \"\", \"\", \"\", \"\", \"\", \"\", \"\", \"\", \"\", \"\", \"\", \"\", \"\", \"\", \"\", \"\", \"\", \"\", \"\", \"\", \"\", \"\", \"\", \"\", \"\", \"\", \"\", \"\", \"\", \"\", \"\", \"\", \"\", \"\", \"\", \"\", \"\", \"\", \"\", \"\", \"\", \"\", \"\", \"\", \"\", \"\", \"\", \"\", \"\", \"\", \"\", \"\", \"\", \"\", \"\", \"\", \"\", \"\", \"\", \"\", \"\", \"\", \"\", \"\", \"\", \"\", \"\", \"\", \"\", \"\", \"\", \"\", \"\", \"\", \"\", \"\", \"\", \"\", \"\", \"\", \"\", \"\", \"\", \"\", \"\", \"\", \"\", \"\", \"\", \"\", \"\", \"\", \"\", \"\", \"\", \"\", \"\", \"\", \"\", \"\", \"\", \"\", \"\", \"\", \"\", \"\", \"\", \"\", \"\", \"\", \"\", \"\", \"\", \"\", \"\", \"\", \"\", \"\", \"\", \"\", \"\", \"\", \"\", \"\", \"\", \"\", \"\", \"\", \"\", \"\", \"\", \"\", \"\", \"\", \"\", \"\", \"\", \"\", \"\", \"\", \"\", \"\", \"\", \"\", \"\", \"\", \"\", \"\", \"\", \"\", \"\", \"\", \"\", \"\", \"\", \"\", \"\", \"\", \"\", \"\", \"\", \"\", \"\", \"\", \"\", \"\", \"\", \"\", \"\", \"\", \"\", \"\", \"\", \"\", \"\", \"\", \"\", \"\", \"\", \"\", \"\", \"\", \"\", \"\", \"\", \"\", \"\", \"\", \"\", \"\", \"\", \"\", \"\", \"\", \"\", \"\", \"\", \"\", \"\", \"\", \"\", \"\", \"\", \"\", \"\", \"\", \"\", \"\", \"\", \"\", \"\", \"\", \"\", \"\", \"\", \"\", \"\", \"\", \"\", \"\", \"\", \"\", \"\", \"\", \"\", \"\", \"\"]}, \"z\": {\"Species\": [\"Adelie\", \"Adelie\", \"Adelie\", \"Adelie\", \"Adelie\", \"Adelie\", \"Adelie\", \"Adelie\", \"Adelie\", \"Adelie\", \"Adelie\", \"Adelie\", \"Adelie\", \"Adelie\", \"Adelie\", \"Adelie\", \"Adelie\", \"Adelie\", \"Adelie\", \"Adelie\", \"Adelie\", \"Adelie\", \"Adelie\", \"Adelie\", \"Adelie\", \"Adelie\", \"Adelie\", \"Adelie\", \"Adelie\", \"Adelie\", \"Adelie\", \"Adelie\", \"Adelie\", \"Adelie\", \"Adelie\", \"Adelie\", \"Adelie\", \"Adelie\", \"Adelie\", \"Adelie\", \"Adelie\", \"Adelie\", \"Adelie\", \"Adelie\", \"Adelie\", \"Adelie\", \"Adelie\", \"Adelie\", \"Adelie\", \"Adelie\", \"Adelie\", \"Adelie\", \"Adelie\", \"Adelie\", \"Adelie\", \"Adelie\", \"Adelie\", \"Adelie\", \"Adelie\", \"Adelie\", \"Adelie\", \"Adelie\", \"Adelie\", \"Adelie\", \"Adelie\", \"Adelie\", \"Adelie\", \"Adelie\", \"Adelie\", \"Adelie\", \"Adelie\", \"Adelie\", \"Adelie\", \"Adelie\", \"Adelie\", \"Adelie\", \"Adelie\", \"Adelie\", \"Adelie\", \"Adelie\", \"Adelie\", \"Adelie\", \"Adelie\", \"Adelie\", \"Adelie\", \"Adelie\", \"Adelie\", \"Adelie\", \"Adelie\", \"Adelie\", \"Adelie\", \"Adelie\", \"Adelie\", \"Adelie\", \"Adelie\", \"Adelie\", \"Adelie\", \"Adelie\", \"Adelie\", \"Adelie\", \"Adelie\", \"Adelie\", \"Adelie\", \"Adelie\", \"Adelie\", \"Adelie\", \"Adelie\", \"Adelie\", \"Adelie\", \"Adelie\", \"Adelie\", \"Adelie\", \"Adelie\", \"Adelie\", \"Adelie\", \"Adelie\", \"Adelie\", \"Adelie\", \"Adelie\", \"Adelie\", \"Adelie\", \"Adelie\", \"Adelie\", \"Adelie\", \"Adelie\", \"Adelie\", \"Adelie\", \"Adelie\", \"Adelie\", \"Adelie\", \"Adelie\", \"Adelie\", \"Adelie\", \"Adelie\", \"Adelie\", \"Adelie\", \"Adelie\", \"Adelie\", \"Adelie\", \"Adelie\", \"Adelie\", \"Adelie\", \"Adelie\", \"Adelie\", \"Adelie\", \"Adelie\", \"Adelie\", \"Adelie\", \"Adelie\", \"Adelie\", \"Adelie\", \"Gentoo\", \"Gentoo\", \"Gentoo\", \"Gentoo\", \"Gentoo\", \"Gentoo\", \"Gentoo\", \"Gentoo\", \"Gentoo\", \"Gentoo\", \"Gentoo\", \"Gentoo\", \"Gentoo\", \"Gentoo\", \"Gentoo\", \"Gentoo\", \"Gentoo\", \"Gentoo\", \"Gentoo\", \"Gentoo\", \"Gentoo\", \"Gentoo\", \"Gentoo\", \"Gentoo\", \"Gentoo\", \"Gentoo\", \"Gentoo\", \"Gentoo\", \"Gentoo\", \"Gentoo\", \"Gentoo\", \"Gentoo\", \"Gentoo\", \"Gentoo\", \"Gentoo\", \"Gentoo\", \"Gentoo\", \"Gentoo\", \"Gentoo\", \"Gentoo\", \"Gentoo\", \"Gentoo\", \"Gentoo\", \"Gentoo\", \"Gentoo\", \"Gentoo\", \"Gentoo\", \"Gentoo\", \"Gentoo\", \"Gentoo\", \"Gentoo\", \"Gentoo\", \"Gentoo\", \"Gentoo\", \"Gentoo\", \"Gentoo\", \"Gentoo\", \"Gentoo\", \"Gentoo\", \"Gentoo\", \"Gentoo\", \"Gentoo\", \"Gentoo\", \"Gentoo\", \"Gentoo\", \"Gentoo\", \"Gentoo\", \"Gentoo\", \"Gentoo\", \"Gentoo\", \"Gentoo\", \"Gentoo\", \"Gentoo\", \"Gentoo\", \"Gentoo\", \"Gentoo\", \"Gentoo\", \"Gentoo\", \"Gentoo\", \"Gentoo\", \"Gentoo\", \"Gentoo\", \"Gentoo\", \"Gentoo\", \"Gentoo\", \"Gentoo\", \"Gentoo\", \"Gentoo\", \"Gentoo\", \"Gentoo\", \"Gentoo\", \"Gentoo\", \"Gentoo\", \"Gentoo\", \"Gentoo\", \"Gentoo\", \"Gentoo\", \"Gentoo\", \"Gentoo\", \"Gentoo\", \"Gentoo\", \"Gentoo\", \"Gentoo\", \"Gentoo\", \"Gentoo\", \"Gentoo\", \"Gentoo\", \"Gentoo\", \"Gentoo\", \"Gentoo\", \"Gentoo\", \"Gentoo\", \"Gentoo\", \"Gentoo\", \"Gentoo\", \"Gentoo\", \"Gentoo\", \"Gentoo\", \"Gentoo\", \"Gentoo\", \"Gentoo\", \"Gentoo\", \"Gentoo\", \"Chinstrap\", \"Chinstrap\", \"Chinstrap\", \"Chinstrap\", \"Chinstrap\", \"Chinstrap\", \"Chinstrap\", \"Chinstrap\", \"Chinstrap\", \"Chinstrap\", \"Chinstrap\", \"Chinstrap\", \"Chinstrap\", \"Chinstrap\", \"Chinstrap\", \"Chinstrap\", \"Chinstrap\", \"Chinstrap\", \"Chinstrap\", \"Chinstrap\", \"Chinstrap\", \"Chinstrap\", \"Chinstrap\", \"Chinstrap\", \"Chinstrap\", \"Chinstrap\", \"Chinstrap\", \"Chinstrap\", \"Chinstrap\", \"Chinstrap\", \"Chinstrap\", \"Chinstrap\", \"Chinstrap\", \"Chinstrap\", \"Chinstrap\", \"Chinstrap\", \"Chinstrap\", \"Chinstrap\", \"Chinstrap\", \"Chinstrap\", \"Chinstrap\", \"Chinstrap\", \"Chinstrap\", \"Chinstrap\", \"Chinstrap\", \"Chinstrap\", \"Chinstrap\", \"Chinstrap\", \"Chinstrap\", \"Chinstrap\", \"Chinstrap\", \"Chinstrap\", \"Chinstrap\", \"Chinstrap\", \"Chinstrap\", \"Chinstrap\", \"Chinstrap\", \"Chinstrap\", \"Chinstrap\", \"Chinstrap\", \"Chinstrap\", \"Chinstrap\", \"Chinstrap\", \"Chinstrap\", \"Chinstrap\", \"Chinstrap\", \"Chinstrap\", \"Chinstrap\"]}}, \"config\": {\"colorBy\": \"Species\", \"dataTableTransposed\": false, \"graphType\": \"Scatter2D\", \"histogramBins\": 20, \"llmHeader\": [\"Sepal.Length\", \"Species\"], \"ridgeBy\": \"Species\", \"ridgelineScale\": 2, \"setMaxX\": 9, \"setMinX\": 3.5, \"showFilledHistogramDensity\": true, \"showHistogram\": \"Species\", \"showHistogramDensity\": true, \"xAxis\": [\"BodyMass\"], \"xAxisTitle\": \"Body Mass (g)\", \"yAxis\": [\"BodyMass\"]}, \"events\": {}}); \n",
       ";\n",
       "\n",
       "</script>\n",
       "\n",
       "    </body>\n",
       "</html>\n"
      ],
      "text/plain": [
       "<IPython.core.display.HTML object>"
      ]
     },
     "metadata": {},
     "output_type": "display_data"
    }
   ],
   "source": [
    "from canvasxpress.canvas import CanvasXpress\n",
    "from canvasxpress.plot import graph\n",
    "\n",
    "graph(\n",
    "  CanvasXpress(\n",
    "    data = {\n",
    "      \"y\": {\n",
    "        \"data\": [[val] for val in df[\"body_mass_g\"]],\n",
    "        \"smps\": [\"Sepal.Length\"],\n",
    "        \"vars\": [\"\" for _ in range(len(df))]\n",
    "      },\n",
    "      \"z\": {\n",
    "        \"Species\": df[\"species\"].tolist()\n",
    "      }\n",
    "    },\n",
    "    config = {\n",
    "      \"colorBy\": \"Species\",\n",
    "      \"dataTableTransposed\": False,\n",
    "      \"graphType\": \"Scatter2D\",\n",
    "      \"histogramBins\": 20,\n",
    "      \"llmHeader\": [\"Sepal.Length\",\"Species\"],\n",
    "      \"ridgeBy\": \"Species\",\n",
    "      \"ridgelineScale\": 2,\n",
    "      \"setMaxX\": 9,\n",
    "      \"setMinX\": 3.5,\n",
    "      \"showFilledHistogramDensity\": True,\n",
    "      \"showHistogram\": \"Species\",\n",
    "      \"showHistogramDensity\": True,\n",
    "      \"xAxis\": [\"BodyMass\"],\n",
    "      \"xAxisTitle\": \"Body Mass (g)\",\n",
    "      \"yAxis\": [\"BodyMass\"]\n",
    "    },\n",
    "    width = 800,\n",
    "    height = 600\n",
    "  )\n",
    ")\n"
   ]
  }
 ],
 "metadata": {
  "kernelspec": {
   "display_name": "Python [conda env:base] *",
   "language": "python",
   "name": "conda-base-py"
  },
  "language_info": {
   "codemirror_mode": {
    "name": "ipython",
    "version": 3
   },
   "file_extension": ".py",
   "mimetype": "text/x-python",
   "name": "python",
   "nbconvert_exporter": "python",
   "pygments_lexer": "ipython3",
   "version": "3.12.7"
  }
 },
 "nbformat": 4,
 "nbformat_minor": 5
}
