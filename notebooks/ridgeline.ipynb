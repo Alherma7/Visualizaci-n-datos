from canvasxpress.canvas import CanvasXpress
from canvasxpress.plot import graph
import pandas as pd

df = pd.read_csv("data/crocodile_dataset.csv").dropna(subset=["Observed Length (m)", "Scientific Name"])

graph(
  CanvasXpress(
    data = {
      "y": {
        "data": [[val] for val in df["Observed Length (m)"]],
        "smps": ["Observed Length (m)"],
        "vars": ["" for _ in range(len(df))]
      },
      "z": {
        "Species": df["Scientific Name"].tolist()
      }
    },
    config = {
      "colorBy": "Scientific Name",
      "dataTableTransposed": False,
      "graphType": "Scatter2D",
      "histogramBins": 20,
      "llmHeader": ["Observed Weight (kg)", "Scientific Name"],
      "ridgeBy": "Species",
      "ridgelineScale": 2,
      "setMaxX": 9,
      "setMinX": 3.5,
      "showFilledHistogramDensity": True,
      "showHistogram": "Species",
      "showHistogramDensity": True,
      "xAxis": ["Observed Length (m)"],
      "xAxisTitle": "Observed Length (m)",
      "yAxis": ["Observed Length (m)"]
    },
    after_render = [
      [
        "createHistogram",
        ["Scientific Name",None],
        {},
        1761889882711,
        True
      ]
    ],
    width = 596,
    height = 596
  )
)
